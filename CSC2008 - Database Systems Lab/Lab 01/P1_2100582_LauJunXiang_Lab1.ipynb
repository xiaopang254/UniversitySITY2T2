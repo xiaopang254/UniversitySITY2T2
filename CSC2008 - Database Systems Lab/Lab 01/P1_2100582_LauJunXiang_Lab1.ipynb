{
 "cells": [
  {
   "cell_type": "code",
   "execution_count": 24,
   "metadata": {},
   "outputs": [
    {
     "name": "stdout",
     "output_type": "stream",
     "text": [
      "2022-12-30 18:54:21,876 INFO sqlalchemy.engine.Engine BEGIN (implicit)\n",
      "2022-12-30 18:54:21,876 INFO sqlalchemy.engine.Engine PRAGMA main.table_info(\"2100582LauJunXiang\")\n",
      "2022-12-30 18:54:21,876 INFO sqlalchemy.engine.Engine [raw sql] ()\n",
      "2022-12-30 18:54:21,877 INFO sqlalchemy.engine.Engine COMMIT\n",
      "2022-12-30 18:54:21,879 INFO sqlalchemy.engine.Engine BEGIN (implicit)\n",
      "2022-12-30 18:54:21,880 INFO sqlalchemy.engine.Engine SELECT count(*) AS count_1 \n",
      "FROM (SELECT \"2100582LauJunXiang\".sid AS \"2100582LauJunXiang_sid\", \"2100582LauJunXiang\".name AS \"2100582LauJunXiang_name\", \"2100582LauJunXiang\".grade AS \"2100582LauJunXiang_grade\" \n",
      "FROM \"2100582LauJunXiang\" \n",
      "WHERE \"2100582LauJunXiang\".name = ?) AS anon_1\n",
      "2022-12-30 18:54:21,880 INFO sqlalchemy.engine.Engine [generated in 0.00047s] ('Student1',)\n"
     ]
    }
   ],
   "source": [
    "import sqlalchemy as db\n",
    "from sqlalchemy.ext.declarative import declarative_base\n",
    "from sqlalchemy.orm import sessionmaker\n",
    "\n",
    "Base = declarative_base()\n",
    "\n",
    "# Question 1: Create Table.\n",
    "# Table Name = <<StudentID>> + <<Name>>\n",
    "# Three Columns, sid (Integer, Primary), Name and Grade\n",
    "class Student(Base):\n",
    "\n",
    "    __tablename__ = \"2100582LauJunXiang\"\n",
    "\n",
    "    sid = db.Column(\"sid\", db.Integer, primary_key = True)\n",
    "    name = db.Column(\"name\", db.String)\n",
    "    grade = db.Column(\"grade\", db.Float)\n",
    "\n",
    "    def __init__(self, sid, name, grade):\n",
    "        self.sid = sid\n",
    "        self.name = name\n",
    "        self.grade = grade\n",
    "\n",
    "    def __repr__(self):\n",
    "        return f\"({self.sid}) {self.name} {self.grade}\"\n",
    "\n",
    "# Create the database to run.\n",
    "# No specification to use specific database, so I chose to use SQLite.\n",
    "engine = db.create_engine(\"sqlite:///jx.db\", echo = True)\n",
    "Base.metadata.create_all(bind=engine)\n",
    "Session = sessionmaker(bind=engine)\n",
    "session = Session()\n",
    "\n",
    "# Question 2\n",
    "# Check if table is empty\n",
    "# If not, display all rows.\n",
    "\n",
    "if session.query(Student).filter_by(name = \"Student1\").count() < 1:\n",
    "    student1 = Student(1, \"Student1\", \"4.1\")\n",
    "    session.add(student1)\n",
    "    session.commit()\n",
    "\n",
    "\n"
   ]
  }
 ],
 "metadata": {
  "kernelspec": {
   "display_name": "env",
   "language": "python",
   "name": "python3"
  },
  "language_info": {
   "codemirror_mode": {
    "name": "ipython",
    "version": 3
   },
   "file_extension": ".py",
   "mimetype": "text/x-python",
   "name": "python",
   "nbconvert_exporter": "python",
   "pygments_lexer": "ipython3",
   "version": "3.10.8"
  },
  "orig_nbformat": 4,
  "vscode": {
   "interpreter": {
    "hash": "019d21f3f0e47d99a87404fe158b62963db2a35d45695f7ad467ae094cc091e7"
   }
  }
 },
 "nbformat": 4,
 "nbformat_minor": 2
}
