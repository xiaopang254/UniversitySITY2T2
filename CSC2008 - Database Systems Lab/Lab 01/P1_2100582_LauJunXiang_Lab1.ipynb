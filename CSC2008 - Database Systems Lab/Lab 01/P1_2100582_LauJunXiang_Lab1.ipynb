{
 "cells": [
  {
   "attachments": {},
   "cell_type": "markdown",
   "metadata": {},
   "source": [
    "# Question 1"
   ]
  },
  {
   "cell_type": "code",
   "execution_count": 105,
   "metadata": {},
   "outputs": [],
   "source": [
    "import sqlalchemy as db\n",
    "from sqlalchemy.ext.declarative import declarative_base\n",
    "from sqlalchemy.orm import sessionmaker\n",
    "\n",
    "Base = declarative_base()\n",
    "\n",
    "# Question 1: Create Table.\n",
    "# Table Name = sID + Name\n",
    "# Three Columns, sid (Integer, Primary), Name and Grade\n",
    "class Students(Base):\n",
    "\n",
    "    __tablename__ = \"CSC2008LauJunXiang\"\n",
    "\n",
    "    sid = db.Column(\"sid\", db.Integer, primary_key = True)\n",
    "    name = db.Column(\"name\", db.String)\n",
    "    grade = db.Column(\"grade\", db.String)\n",
    "\n",
    "    def __init__(self, sid, name, grade):\n",
    "        self.sid = sid\n",
    "        self.name = name\n",
    "        self.grade = grade\n",
    "\n",
    "    def __repr__(self):\n",
    "        return f\"({self.sid}) {self.name} {self.grade}\"\n",
    "\n",
    "# Create the database to run.\n",
    "# No specification to use specific database, so I chose to use SQLite.\n",
    "\n",
    "engine = db.create_engine(\"sqlite:///jx.db\", echo = False)\n",
    "Base.metadata.create_all(bind=engine)\n",
    "Session = sessionmaker(bind=engine)\n",
    "session = Session()\n",
    "\n"
   ]
  },
  {
   "attachments": {},
   "cell_type": "markdown",
   "metadata": {},
   "source": [
    "# Question 2"
   ]
  },
  {
   "cell_type": "code",
   "execution_count": 106,
   "metadata": {},
   "outputs": [
    {
     "name": "stdout",
     "output_type": "stream",
     "text": [
      "Empty Table!\n"
     ]
    }
   ],
   "source": [
    "# Question 2\n",
    "# Check if table is empty\n",
    "# If not, display all rows.\n",
    "if session.query(Students).count() > 0:\n",
    "    for row in session.query(Students).all():\n",
    "        print(\"SID: \" + str(row.sid) + \" Name: \" + row.name + \" Grade: \" + row.grade)\n",
    "else:\n",
    "    print(\"Empty Table!\")"
   ]
  },
  {
   "attachments": {},
   "cell_type": "markdown",
   "metadata": {},
   "source": [
    "# Question 3"
   ]
  },
  {
   "cell_type": "code",
   "execution_count": 107,
   "metadata": {},
   "outputs": [
    {
     "name": "stdout",
     "output_type": "stream",
     "text": [
      "SID: 2100582 Name: Lau Jun Xiang Grade: NA\n"
     ]
    }
   ],
   "source": [
    "# Question 3\n",
    "# Add new student (myself)\n",
    "# sid = student id\n",
    "# name = my name\n",
    "# grade = NA\n",
    "\n",
    "if session.query(Students).filter_by(name = \"Lau Jun Xiang\").count() < 1:\n",
    "    student1 = Students(2100582, \"Lau Jun Xiang\", \"NA\")\n",
    "    session.add(student1)\n",
    "    session.commit()\n",
    "\n",
    "if session.query(Students).count() > 0:\n",
    "    for row in session.query(Students).all():\n",
    "        print(\"SID: \" + str(row.sid) + \" Name: \" + row.name + \" Grade: \" + row.grade)\n",
    "else:\n",
    "    print(\"Empty Table!\")"
   ]
  },
  {
   "attachments": {},
   "cell_type": "markdown",
   "metadata": {},
   "source": [
    "# Question 4"
   ]
  },
  {
   "cell_type": "code",
   "execution_count": 108,
   "metadata": {},
   "outputs": [
    {
     "name": "stdout",
     "output_type": "stream",
     "text": [
      "SID: 2100582 Name: Lau Jun Xiang Grade: NA\n",
      "SID: 2102345 Name: Arya Stark Grade: NA\n",
      "SID: 2103456 Name: Jon Snow Grade: NA\n"
     ]
    }
   ],
   "source": [
    "# Question 4\n",
    "# insert two more students\n",
    "# (with sid 2102345, name ‘Arya Stark’, and grade ‘NA’)\n",
    "# (with sid 2103456, name ‘Jon Snow’, and grade ‘NA’)\n",
    "\n",
    "if session.query(Students).filter_by(name = \"Arya Stark\").count() < 1:\n",
    "    student2 = Students(2102345, \"Arya Stark\", \"NA\")\n",
    "    session.add(student2)\n",
    "    session.commit()\n",
    "\n",
    "if session.query(Students).filter_by(name =  \"Jon Snow\").count() < 1:\n",
    "    student3 = Students(2103456, \"Jon Snow\", \"NA\")\n",
    "    session.add(student3)\n",
    "    session.commit()\n",
    "\n",
    "if session.query(Students).count() > 0:\n",
    "    for row in session.query(Students).all():\n",
    "        print(\"SID: \" + str(row.sid) + \" Name: \" + row.name + \" Grade: \" + row.grade)\n",
    "else:\n",
    "    print(\"Empty Table!\")"
   ]
  },
  {
   "attachments": {},
   "cell_type": "markdown",
   "metadata": {},
   "source": [
    "# Question 5"
   ]
  },
  {
   "cell_type": "code",
   "execution_count": 109,
   "metadata": {},
   "outputs": [
    {
     "name": "stdout",
     "output_type": "stream",
     "text": [
      "SID: 2100582 Name: Lau Jun Xiang Grade: NA\n",
      "SID: 2102345 Name: Arya Stark Grade: A-\n",
      "SID: 2103456 Name: Jon Snow Grade: NA\n"
     ]
    }
   ],
   "source": [
    "# Question 5\n",
    "# UPDATE Arya Stark grade to A-\n",
    "\n",
    "AryaStark = session.query(Students).get(2102345)\n",
    "# AryaStark = session.query(Students).filter(Students.name == 'Arya Stark')\n",
    "#print(AryaStark.name)\n",
    "\n",
    "AryaStark.grade = \"A-\"\n",
    "session.commit()\n",
    "\n",
    "#session.query(Students).scalar\n",
    "#session.query(Students).one\n",
    "\n",
    "if session.query(Students).count() > 0:\n",
    "    for row in session.query(Students).all():\n",
    "        print(\"SID: \" + str(row.sid) + \" Name: \" + row.name + \" Grade: \" + row.grade)\n",
    "else:\n",
    "    print(\"Empty Table!\")"
   ]
  },
  {
   "attachments": {},
   "cell_type": "markdown",
   "metadata": {},
   "source": [
    "# Question 6"
   ]
  },
  {
   "cell_type": "code",
   "execution_count": 110,
   "metadata": {},
   "outputs": [
    {
     "name": "stdout",
     "output_type": "stream",
     "text": [
      "SID: 2100582 Name: Lau Jun Xiang Grade: NA\n",
      "SID: 2102345 Name: Arya Stark Grade: A-\n",
      "SID: 2103456 Name: Jon Snow Grade: A+\n"
     ]
    }
   ],
   "source": [
    "# Question 6\n",
    "# UPDATE Jon Snow grade to A+, then display all table\n",
    "\n",
    "JonSnow = session.query(Students).get(2103456)\n",
    "#print(JonSnow.name)\n",
    "\n",
    "JonSnow.grade = \"A+\"\n",
    "session.commit()\n",
    " \n",
    "if session.query(Students).count() > 0:\n",
    "    for row in session.query(Students).all():\n",
    "        print(\"SID: \" + str(row.sid) + \" Name: \" + row.name + \" Grade: \" + row.grade)\n",
    "else:\n",
    "    print(\"Empty Table!\")"
   ]
  },
  {
   "attachments": {},
   "cell_type": "markdown",
   "metadata": {},
   "source": [
    "# Question 7"
   ]
  },
  {
   "cell_type": "code",
   "execution_count": 111,
   "metadata": {},
   "outputs": [
    {
     "name": "stdout",
     "output_type": "stream",
     "text": [
      "SID: 2100582 Name: Lau Jun Xiang Grade: NA\n",
      "SID: 2103456 Name: Jon Snow Grade: A+\n"
     ]
    }
   ],
   "source": [
    "# Question 7\n",
    "# DELETE Arya Stark. Display all rows.\n",
    "\n",
    "session.delete(AryaStark)\n",
    "#session.query(Students).delete()\n",
    "session.commit()\n",
    "\n",
    "if session.query(Students).count() > 0:\n",
    "    for row in session.query(Students).all():\n",
    "        print(\"SID: \" + str(row.sid) + \" Name: \" + row.name + \" Grade: \" + row.grade)\n",
    "else:\n",
    "    print(\"Empty Table!\")"
   ]
  },
  {
   "attachments": {},
   "cell_type": "markdown",
   "metadata": {},
   "source": [
    "# Question 8"
   ]
  },
  {
   "cell_type": "code",
   "execution_count": 112,
   "metadata": {},
   "outputs": [
    {
     "name": "stdout",
     "output_type": "stream",
     "text": [
      "Empty Table!\n"
     ]
    }
   ],
   "source": [
    "# Question 8\n",
    "# Delete all students\n",
    "\n",
    "if session.query(Students).count() > 0:\n",
    "    for rows in session.query(Students).all():\n",
    "        session.delete(rows)\n",
    "    session.commit()\n",
    "\n",
    "if session.query(Students).count() > 0:\n",
    "    for row in session.query(Students).all():\n",
    "        print(\"SID: \" + str(row.sid) + \" Name: \" + row.name + \" Grade: \" + row.grade)\n",
    "else:\n",
    "    print(\"Empty Table!\")"
   ]
  }
 ],
 "metadata": {
  "kernelspec": {
   "display_name": "env",
   "language": "python",
   "name": "python3"
  },
  "language_info": {
   "codemirror_mode": {
    "name": "ipython",
    "version": 3
   },
   "file_extension": ".py",
   "mimetype": "text/x-python",
   "name": "python",
   "nbconvert_exporter": "python",
   "pygments_lexer": "ipython3",
   "version": "3.10.8"
  },
  "orig_nbformat": 4,
  "vscode": {
   "interpreter": {
    "hash": "019d21f3f0e47d99a87404fe158b62963db2a35d45695f7ad467ae094cc091e7"
   }
  }
 },
 "nbformat": 4,
 "nbformat_minor": 2
}
