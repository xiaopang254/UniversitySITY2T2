{
 "cells": [
  {
   "cell_type": "code",
   "execution_count": 120,
   "metadata": {},
   "outputs": [
    {
     "name": "stdout",
     "output_type": "stream",
     "text": [
      "2022-12-31 18:12:36,165 INFO sqlalchemy.engine.Engine BEGIN (implicit)\n",
      "2022-12-31 18:12:36,166 INFO sqlalchemy.engine.Engine PRAGMA main.table_info(\"2100582LauJunXiang\")\n",
      "2022-12-31 18:12:36,166 INFO sqlalchemy.engine.Engine [raw sql] ()\n",
      "2022-12-31 18:12:36,166 INFO sqlalchemy.engine.Engine COMMIT\n"
     ]
    }
   ],
   "source": [
    "import sqlalchemy as db\n",
    "from sqlalchemy.ext.declarative import declarative_base\n",
    "from sqlalchemy.orm import sessionmaker\n",
    "\n",
    "Base = declarative_base()\n",
    "\n",
    "# Question 1: Create Table.\n",
    "# Table Name = StudentID + Name\n",
    "# Three Columns, sid (Integer, Primary), Name and Grade\n",
    "class Student(Base):\n",
    "\n",
    "    __tablename__ = \"2100582LauJunXiang\"\n",
    "\n",
    "    sid = db.Column(\"sid\", db.Integer, primary_key = True)\n",
    "    name = db.Column(\"name\", db.String)\n",
    "    grade = db.Column(\"grade\", db.String)\n",
    "\n",
    "    def __init__(self, sid, name, grade):\n",
    "        self.sid = sid\n",
    "        self.name = name\n",
    "        self.grade = grade\n",
    "\n",
    "    def __repr__(self):\n",
    "        return f\"({self.sid}) {self.name} {self.grade}\"\n",
    "\n",
    "# Create the database to run.\n",
    "# No specification to use specific database, so I chose to use SQLite.\n",
    "engine = db.create_engine(\"sqlite:///jx.db\", echo = True)\n",
    "Base.metadata.create_all(bind=engine)\n",
    "Session = sessionmaker(bind=engine)\n",
    "session = Session()\n"
   ]
  },
  {
   "cell_type": "code",
   "execution_count": 121,
   "metadata": {},
   "outputs": [
    {
     "name": "stdout",
     "output_type": "stream",
     "text": [
      "2022-12-31 18:12:36,201 INFO sqlalchemy.engine.Engine BEGIN (implicit)\n",
      "2022-12-31 18:12:36,203 INFO sqlalchemy.engine.Engine SELECT count(*) AS count_1 \n",
      "FROM (SELECT \"2100582LauJunXiang\".sid AS \"2100582LauJunXiang_sid\", \"2100582LauJunXiang\".name AS \"2100582LauJunXiang_name\", \"2100582LauJunXiang\".grade AS \"2100582LauJunXiang_grade\" \n",
      "FROM \"2100582LauJunXiang\") AS anon_1\n",
      "2022-12-31 18:12:36,204 INFO sqlalchemy.engine.Engine [generated in 0.00048s] ()\n",
      "Empty Table!\n"
     ]
    }
   ],
   "source": [
    "# Question 2\n",
    "# Check if table is empty\n",
    "# If not, display all rows.\n",
    "\n",
    "if session.query(Student).count() > 0:\n",
    "    for row in session.query(Student).all():\n",
    "        print(\"SID: \" + str(row.sid) + \" Name: \" + row.name + \" Grade: \" + row.grade)\n",
    "else:\n",
    "    print(\"Empty Table!\")"
   ]
  },
  {
   "cell_type": "code",
   "execution_count": 122,
   "metadata": {},
   "outputs": [
    {
     "name": "stdout",
     "output_type": "stream",
     "text": [
      "2022-12-31 18:12:36,228 INFO sqlalchemy.engine.Engine SELECT count(*) AS count_1 \n",
      "FROM (SELECT \"2100582LauJunXiang\".sid AS \"2100582LauJunXiang_sid\", \"2100582LauJunXiang\".name AS \"2100582LauJunXiang_name\", \"2100582LauJunXiang\".grade AS \"2100582LauJunXiang_grade\" \n",
      "FROM \"2100582LauJunXiang\" \n",
      "WHERE \"2100582LauJunXiang\".name = ?) AS anon_1\n",
      "2022-12-31 18:12:36,229 INFO sqlalchemy.engine.Engine [generated in 0.00052s] ('Lau Jun Xiang',)\n",
      "2022-12-31 18:12:36,229 INFO sqlalchemy.engine.Engine INSERT INTO \"2100582LauJunXiang\" (sid, name, grade) VALUES (?, ?, ?)\n",
      "2022-12-31 18:12:36,230 INFO sqlalchemy.engine.Engine [generated in 0.00026s] (2100582, 'Lau Jun Xiang', 'NA')\n",
      "2022-12-31 18:12:36,230 INFO sqlalchemy.engine.Engine COMMIT\n",
      "2022-12-31 18:12:36,231 INFO sqlalchemy.engine.Engine BEGIN (implicit)\n",
      "2022-12-31 18:12:36,232 INFO sqlalchemy.engine.Engine SELECT count(*) AS count_1 \n",
      "FROM (SELECT \"2100582LauJunXiang\".sid AS \"2100582LauJunXiang_sid\", \"2100582LauJunXiang\".name AS \"2100582LauJunXiang_name\", \"2100582LauJunXiang\".grade AS \"2100582LauJunXiang_grade\" \n",
      "FROM \"2100582LauJunXiang\") AS anon_1\n",
      "2022-12-31 18:12:36,232 INFO sqlalchemy.engine.Engine [cached since 0.02866s ago] ()\n",
      "2022-12-31 18:12:36,233 INFO sqlalchemy.engine.Engine SELECT \"2100582LauJunXiang\".sid AS \"2100582LauJunXiang_sid\", \"2100582LauJunXiang\".name AS \"2100582LauJunXiang_name\", \"2100582LauJunXiang\".grade AS \"2100582LauJunXiang_grade\" \n",
      "FROM \"2100582LauJunXiang\"\n",
      "2022-12-31 18:12:36,233 INFO sqlalchemy.engine.Engine [generated in 0.00031s] ()\n",
      "SID: 2100582 Name: Lau Jun Xiang Grade: NA\n"
     ]
    }
   ],
   "source": [
    "# Question 3\n",
    "# Add new student (myself)\n",
    "# sid = student id\n",
    "# name = my name\n",
    "# grade = NA\n",
    "\n",
    "if session.query(Student).filter_by(name = \"Lau Jun Xiang\").count() < 1:\n",
    "    student1 = Student(2100582, \"Lau Jun Xiang\", \"NA\")\n",
    "    session.add(student1)\n",
    "    session.commit()\n",
    "\n",
    "if session.query(Student).count() > 0:\n",
    "    for row in session.query(Student).all():\n",
    "        print(\"SID: \" + str(row.sid) + \" Name: \" + row.name + \" Grade: \" + row.grade)\n",
    "else:\n",
    "    print(\"Empty Table!\")"
   ]
  },
  {
   "cell_type": "code",
   "execution_count": 123,
   "metadata": {},
   "outputs": [
    {
     "name": "stdout",
     "output_type": "stream",
     "text": [
      "2022-12-31 18:12:36,259 INFO sqlalchemy.engine.Engine SELECT count(*) AS count_1 \n",
      "FROM (SELECT \"2100582LauJunXiang\".sid AS \"2100582LauJunXiang_sid\", \"2100582LauJunXiang\".name AS \"2100582LauJunXiang_name\", \"2100582LauJunXiang\".grade AS \"2100582LauJunXiang_grade\" \n",
      "FROM \"2100582LauJunXiang\" \n",
      "WHERE \"2100582LauJunXiang\".name = ?) AS anon_1\n",
      "2022-12-31 18:12:36,262 INFO sqlalchemy.engine.Engine [cached since 0.03349s ago] ('Arya Stark',)\n",
      "2022-12-31 18:12:36,264 INFO sqlalchemy.engine.Engine INSERT INTO \"2100582LauJunXiang\" (sid, name, grade) VALUES (?, ?, ?)\n",
      "2022-12-31 18:12:36,264 INFO sqlalchemy.engine.Engine [cached since 0.03495s ago] (2102345, 'Arya Stark', 'NA')\n",
      "2022-12-31 18:12:36,267 INFO sqlalchemy.engine.Engine COMMIT\n",
      "2022-12-31 18:12:36,273 INFO sqlalchemy.engine.Engine BEGIN (implicit)\n",
      "2022-12-31 18:12:36,273 INFO sqlalchemy.engine.Engine SELECT count(*) AS count_1 \n",
      "FROM (SELECT \"2100582LauJunXiang\".sid AS \"2100582LauJunXiang_sid\", \"2100582LauJunXiang\".name AS \"2100582LauJunXiang_name\", \"2100582LauJunXiang\".grade AS \"2100582LauJunXiang_grade\" \n",
      "FROM \"2100582LauJunXiang\" \n",
      "WHERE \"2100582LauJunXiang\".name = ?) AS anon_1\n",
      "2022-12-31 18:12:36,274 INFO sqlalchemy.engine.Engine [cached since 0.04552s ago] ('Jon Snow',)\n",
      "2022-12-31 18:12:36,274 INFO sqlalchemy.engine.Engine INSERT INTO \"2100582LauJunXiang\" (sid, name, grade) VALUES (?, ?, ?)\n",
      "2022-12-31 18:12:36,274 INFO sqlalchemy.engine.Engine [cached since 0.04491s ago] (2103456, 'Jon Snow', 'NA')\n",
      "2022-12-31 18:12:36,275 INFO sqlalchemy.engine.Engine COMMIT\n",
      "2022-12-31 18:12:36,276 INFO sqlalchemy.engine.Engine BEGIN (implicit)\n",
      "2022-12-31 18:12:36,276 INFO sqlalchemy.engine.Engine SELECT count(*) AS count_1 \n",
      "FROM (SELECT \"2100582LauJunXiang\".sid AS \"2100582LauJunXiang_sid\", \"2100582LauJunXiang\".name AS \"2100582LauJunXiang_name\", \"2100582LauJunXiang\".grade AS \"2100582LauJunXiang_grade\" \n",
      "FROM \"2100582LauJunXiang\") AS anon_1\n",
      "2022-12-31 18:12:36,276 INFO sqlalchemy.engine.Engine [cached since 0.0732s ago] ()\n",
      "2022-12-31 18:12:36,277 INFO sqlalchemy.engine.Engine SELECT \"2100582LauJunXiang\".sid AS \"2100582LauJunXiang_sid\", \"2100582LauJunXiang\".name AS \"2100582LauJunXiang_name\", \"2100582LauJunXiang\".grade AS \"2100582LauJunXiang_grade\" \n",
      "FROM \"2100582LauJunXiang\"\n",
      "2022-12-31 18:12:36,277 INFO sqlalchemy.engine.Engine [cached since 0.04456s ago] ()\n",
      "SID: 2100582 Name: Lau Jun Xiang Grade: NA\n",
      "SID: 2102345 Name: Arya Stark Grade: NA\n",
      "SID: 2103456 Name: Jon Snow Grade: NA\n"
     ]
    }
   ],
   "source": [
    "# Question 4\n",
    "# insert two more students\n",
    "# (with sid 2102345, name ‘Arya Stark’, and grade ‘NA’)\n",
    "# (with sid 2103456, name ‘Jon Snow’, and grade ‘NA’)\n",
    "\n",
    "if session.query(Student).filter_by(name = \"Arya Stark\").count() < 1:\n",
    "    student2 = Student(2102345, \"Arya Stark\", \"NA\")\n",
    "    session.add(student2)\n",
    "    session.commit()\n",
    "\n",
    "if session.query(Student).filter_by(name = \"Jon Snow\").count() < 1:\n",
    "    student3 = Student(2103456, \"Jon Snow\", \"NA\")\n",
    "    session.add(student3)\n",
    "    session.commit()\n",
    "\n",
    "if session.query(Student).count() > 0:\n",
    "    for row in session.query(Student).all():\n",
    "        print(\"SID: \" + str(row.sid) + \" Name: \" + row.name + \" Grade: \" + row.grade)\n",
    "else:\n",
    "    print(\"Empty Table!\")"
   ]
  },
  {
   "cell_type": "code",
   "execution_count": 124,
   "metadata": {},
   "outputs": [
    {
     "name": "stdout",
     "output_type": "stream",
     "text": [
      "Arya Stark\n",
      "2022-12-31 18:12:36,302 INFO sqlalchemy.engine.Engine UPDATE \"2100582LauJunXiang\" SET grade=? WHERE \"2100582LauJunXiang\".sid = ?\n",
      "2022-12-31 18:12:36,305 INFO sqlalchemy.engine.Engine [generated in 0.00224s] ('A-', 2102345)\n",
      "2022-12-31 18:12:36,307 INFO sqlalchemy.engine.Engine COMMIT\n",
      "2022-12-31 18:12:36,308 INFO sqlalchemy.engine.Engine BEGIN (implicit)\n",
      "2022-12-31 18:12:36,309 INFO sqlalchemy.engine.Engine SELECT count(*) AS count_1 \n",
      "FROM (SELECT \"2100582LauJunXiang\".sid AS \"2100582LauJunXiang_sid\", \"2100582LauJunXiang\".name AS \"2100582LauJunXiang_name\", \"2100582LauJunXiang\".grade AS \"2100582LauJunXiang_grade\" \n",
      "FROM \"2100582LauJunXiang\") AS anon_1\n",
      "2022-12-31 18:12:36,310 INFO sqlalchemy.engine.Engine [cached since 0.1066s ago] ()\n",
      "2022-12-31 18:12:36,311 INFO sqlalchemy.engine.Engine SELECT \"2100582LauJunXiang\".sid AS \"2100582LauJunXiang_sid\", \"2100582LauJunXiang\".name AS \"2100582LauJunXiang_name\", \"2100582LauJunXiang\".grade AS \"2100582LauJunXiang_grade\" \n",
      "FROM \"2100582LauJunXiang\"\n",
      "2022-12-31 18:12:36,312 INFO sqlalchemy.engine.Engine [cached since 0.07875s ago] ()\n",
      "[(2100582) Lau Jun Xiang NA, (2102345) Arya Stark A-, (2103456) Jon Snow NA]\n",
      "2022-12-31 18:12:36,313 INFO sqlalchemy.engine.Engine SELECT \"2100582LauJunXiang\".sid AS \"2100582LauJunXiang_sid\", \"2100582LauJunXiang\".name AS \"2100582LauJunXiang_name\", \"2100582LauJunXiang\".grade AS \"2100582LauJunXiang_grade\" \n",
      "FROM \"2100582LauJunXiang\"\n",
      "2022-12-31 18:12:36,313 INFO sqlalchemy.engine.Engine [cached since 0.08059s ago] ()\n",
      "SID: 2100582 Name: Lau Jun Xiang Grade: NA\n",
      "SID: 2102345 Name: Arya Stark Grade: A-\n",
      "SID: 2103456 Name: Jon Snow Grade: NA\n"
     ]
    }
   ],
   "source": [
    "# Question 5\n",
    "# UPDATE Arya Stark grade to A-\n",
    "\n",
    "AryaStark = session.query(Student).get(2102345)\n",
    "print(AryaStark.name)\n",
    "\n",
    "AryaStark.grade = \"A-\"\n",
    "session.commit()\n",
    "\n",
    "if session.query(Student).count() > 0:\n",
    "    print(session.query(Student).all())\n",
    "    for row in session.query(Student).all():\n",
    "        print(\"SID: \" + str(row.sid) + \" Name: \" + row.name + \" Grade: \" + row.grade)\n",
    "else:\n",
    "    print(\"Empty Table!\")"
   ]
  },
  {
   "cell_type": "code",
   "execution_count": 125,
   "metadata": {},
   "outputs": [
    {
     "name": "stdout",
     "output_type": "stream",
     "text": [
      "Jon Snow\n",
      "2022-12-31 18:12:36,340 INFO sqlalchemy.engine.Engine UPDATE \"2100582LauJunXiang\" SET grade=? WHERE \"2100582LauJunXiang\".sid = ?\n",
      "2022-12-31 18:12:36,341 INFO sqlalchemy.engine.Engine [cached since 0.03829s ago] ('A+', 2103456)\n",
      "2022-12-31 18:12:36,341 INFO sqlalchemy.engine.Engine COMMIT\n",
      "2022-12-31 18:12:36,342 INFO sqlalchemy.engine.Engine BEGIN (implicit)\n",
      "2022-12-31 18:12:36,343 INFO sqlalchemy.engine.Engine SELECT count(*) AS count_1 \n",
      "FROM (SELECT \"2100582LauJunXiang\".sid AS \"2100582LauJunXiang_sid\", \"2100582LauJunXiang\".name AS \"2100582LauJunXiang_name\", \"2100582LauJunXiang\".grade AS \"2100582LauJunXiang_grade\" \n",
      "FROM \"2100582LauJunXiang\") AS anon_1\n",
      "2022-12-31 18:12:36,343 INFO sqlalchemy.engine.Engine [cached since 0.1399s ago] ()\n",
      "2022-12-31 18:12:36,343 INFO sqlalchemy.engine.Engine SELECT \"2100582LauJunXiang\".sid AS \"2100582LauJunXiang_sid\", \"2100582LauJunXiang\".name AS \"2100582LauJunXiang_name\", \"2100582LauJunXiang\".grade AS \"2100582LauJunXiang_grade\" \n",
      "FROM \"2100582LauJunXiang\"\n",
      "2022-12-31 18:12:36,344 INFO sqlalchemy.engine.Engine [cached since 0.1109s ago] ()\n",
      "SID: 2100582 Name: Lau Jun Xiang Grade: NA\n",
      "SID: 2102345 Name: Arya Stark Grade: A-\n",
      "SID: 2103456 Name: Jon Snow Grade: A+\n"
     ]
    }
   ],
   "source": [
    "# Question 6\n",
    "# UPDATE Jon Snow grade to A+, then display all table\n",
    "\n",
    "JonSnow = session.query(Student).get(2103456)\n",
    "print(JonSnow.name)\n",
    "\n",
    "JonSnow.grade = \"A+\"\n",
    "session.commit()\n",
    " \n",
    "if session.query(Student).count() > 0:\n",
    "    for row in session.query(Student).all():\n",
    "        print(\"SID: \" + str(row.sid) + \" Name: \" + row.name + \" Grade: \" + row.grade)\n",
    "else:\n",
    "    print(\"Empty Table!\")"
   ]
  },
  {
   "cell_type": "code",
   "execution_count": 126,
   "metadata": {},
   "outputs": [
    {
     "name": "stdout",
     "output_type": "stream",
     "text": [
      "2022-12-31 18:12:36,363 INFO sqlalchemy.engine.Engine DELETE FROM \"2100582LauJunXiang\" WHERE \"2100582LauJunXiang\".sid = ?\n",
      "2022-12-31 18:12:36,364 INFO sqlalchemy.engine.Engine [generated in 0.00061s] (2102345,)\n",
      "2022-12-31 18:12:36,364 INFO sqlalchemy.engine.Engine COMMIT\n",
      "2022-12-31 18:12:36,366 INFO sqlalchemy.engine.Engine BEGIN (implicit)\n",
      "2022-12-31 18:12:36,366 INFO sqlalchemy.engine.Engine SELECT count(*) AS count_1 \n",
      "FROM (SELECT \"2100582LauJunXiang\".sid AS \"2100582LauJunXiang_sid\", \"2100582LauJunXiang\".name AS \"2100582LauJunXiang_name\", \"2100582LauJunXiang\".grade AS \"2100582LauJunXiang_grade\" \n",
      "FROM \"2100582LauJunXiang\") AS anon_1\n",
      "2022-12-31 18:12:36,366 INFO sqlalchemy.engine.Engine [cached since 0.1633s ago] ()\n",
      "2022-12-31 18:12:36,367 INFO sqlalchemy.engine.Engine SELECT \"2100582LauJunXiang\".sid AS \"2100582LauJunXiang_sid\", \"2100582LauJunXiang\".name AS \"2100582LauJunXiang_name\", \"2100582LauJunXiang\".grade AS \"2100582LauJunXiang_grade\" \n",
      "FROM \"2100582LauJunXiang\"\n",
      "2022-12-31 18:12:36,367 INFO sqlalchemy.engine.Engine [cached since 0.1344s ago] ()\n",
      "SID: 2100582 Name: Lau Jun Xiang Grade: NA\n",
      "SID: 2103456 Name: Jon Snow Grade: A+\n"
     ]
    }
   ],
   "source": [
    "# Question 7\n",
    "# DELETE Arya Stark. Display all rows.\n",
    "\n",
    "session.delete(AryaStark)\n",
    "session.commit()\n",
    "\n",
    "if session.query(Student).count() > 0:\n",
    "    for row in session.query(Student).all():\n",
    "        print(\"SID: \" + str(row.sid) + \" Name: \" + row.name + \" Grade: \" + row.grade)\n",
    "else:\n",
    "    print(\"Empty Table!\")"
   ]
  },
  {
   "cell_type": "code",
   "execution_count": 127,
   "metadata": {},
   "outputs": [
    {
     "name": "stdout",
     "output_type": "stream",
     "text": [
      "2022-12-31 18:12:36,387 INFO sqlalchemy.engine.Engine SELECT count(*) AS count_1 \n",
      "FROM (SELECT \"2100582LauJunXiang\".sid AS \"2100582LauJunXiang_sid\", \"2100582LauJunXiang\".name AS \"2100582LauJunXiang_name\", \"2100582LauJunXiang\".grade AS \"2100582LauJunXiang_grade\" \n",
      "FROM \"2100582LauJunXiang\") AS anon_1\n",
      "2022-12-31 18:12:36,388 INFO sqlalchemy.engine.Engine [cached since 0.1848s ago] ()\n",
      "2022-12-31 18:12:36,388 INFO sqlalchemy.engine.Engine SELECT \"2100582LauJunXiang\".sid AS \"2100582LauJunXiang_sid\", \"2100582LauJunXiang\".name AS \"2100582LauJunXiang_name\", \"2100582LauJunXiang\".grade AS \"2100582LauJunXiang_grade\" \n",
      "FROM \"2100582LauJunXiang\"\n",
      "2022-12-31 18:12:36,388 INFO sqlalchemy.engine.Engine [cached since 0.1557s ago] ()\n",
      "2022-12-31 18:12:36,389 INFO sqlalchemy.engine.Engine DELETE FROM \"2100582LauJunXiang\" WHERE \"2100582LauJunXiang\".sid = ?\n",
      "2022-12-31 18:12:36,389 INFO sqlalchemy.engine.Engine [generated in 0.00024s] ((2100582,), (2103456,))\n",
      "2022-12-31 18:12:36,390 INFO sqlalchemy.engine.Engine COMMIT\n",
      "2022-12-31 18:12:36,391 INFO sqlalchemy.engine.Engine BEGIN (implicit)\n",
      "2022-12-31 18:12:36,391 INFO sqlalchemy.engine.Engine SELECT \"2100582LauJunXiang\".sid AS \"2100582LauJunXiang_sid\", \"2100582LauJunXiang\".name AS \"2100582LauJunXiang_name\", \"2100582LauJunXiang\".grade AS \"2100582LauJunXiang_grade\" \n",
      "FROM \"2100582LauJunXiang\"\n",
      "2022-12-31 18:12:36,391 INFO sqlalchemy.engine.Engine [cached since 0.1583s ago] ()\n"
     ]
    }
   ],
   "source": [
    "# Question 8\n",
    "# Delete all students\n",
    "\n",
    "if session.query(Student).count() > 0:\n",
    "    for rows in session.query(Student).all():\n",
    "        session.delete(rows)\n",
    "    session.commit()\n",
    "    \n",
    "    for row in session.query(Student).all():\n",
    "        print(\"SID: \" + str(row.sid) + \" Name: \" + row.name + \" Grade: \" + row.grade)\n",
    "else:\n",
    "    print(\"Empty Table!\")"
   ]
  }
 ],
 "metadata": {
  "kernelspec": {
   "display_name": "env",
   "language": "python",
   "name": "python3"
  },
  "language_info": {
   "codemirror_mode": {
    "name": "ipython",
    "version": 3
   },
   "file_extension": ".py",
   "mimetype": "text/x-python",
   "name": "python",
   "nbconvert_exporter": "python",
   "pygments_lexer": "ipython3",
   "version": "3.10.8"
  },
  "orig_nbformat": 4,
  "vscode": {
   "interpreter": {
    "hash": "019d21f3f0e47d99a87404fe158b62963db2a35d45695f7ad467ae094cc091e7"
   }
  }
 },
 "nbformat": 4,
 "nbformat_minor": 2
}
