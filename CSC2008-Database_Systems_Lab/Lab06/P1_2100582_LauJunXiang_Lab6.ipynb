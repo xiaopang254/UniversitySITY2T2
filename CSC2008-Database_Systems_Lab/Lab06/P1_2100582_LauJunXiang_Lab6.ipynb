{
 "cells": [
  {
   "attachments": {},
   "cell_type": "markdown",
   "metadata": {},
   "source": [
    "# Question 1"
   ]
  },
  {
   "cell_type": "code",
   "execution_count": 94,
   "metadata": {},
   "outputs": [],
   "source": [
    "import sqlite3\n",
    "\n",
    "conn = sqlite3.connect('music.sqlite')\n",
    "\n",
    "cur = conn.cursor()\n",
    "\n",
    "cur.execute('DROP TABLE IF EXISTS Tracks')\n",
    "\n",
    "cur.execute('CREATE TABLE Tracks (title TEXT, plays INTEGER)')\n",
    "\n",
    "conn.commit()"
   ]
  },
  {
   "attachments": {},
   "cell_type": "markdown",
   "metadata": {},
   "source": [
    "# Question 2"
   ]
  },
  {
   "cell_type": "code",
   "execution_count": 95,
   "metadata": {},
   "outputs": [],
   "source": [
    "\n",
    "cur.execute('INSERT INTO Tracks (title, plays) VALUES (\"We Don’t Talk About Bruno\", 20)')\n",
    "cur.execute('INSERT INTO Tracks (title, plays) VALUES (\"Levitating\", 15)')\n",
    "\n",
    "conn.commit()"
   ]
  },
  {
   "attachments": {},
   "cell_type": "markdown",
   "metadata": {},
   "source": [
    "# Question 3"
   ]
  },
  {
   "cell_type": "code",
   "execution_count": 96,
   "metadata": {},
   "outputs": [
    {
     "name": "stdout",
     "output_type": "stream",
     "text": [
      "('We Don’t Talk About Bruno', 20)\n",
      "('Levitating', 15)\n"
     ]
    }
   ],
   "source": [
    "\n",
    "\n",
    "cur.execute('SELECT * FROM Tracks')\n",
    "\n",
    "conn.commit()\n",
    "\n",
    "for i in cur:\n",
    "    print(i)\n"
   ]
  },
  {
   "attachments": {},
   "cell_type": "markdown",
   "metadata": {},
   "source": [
    "# Question 4"
   ]
  },
  {
   "cell_type": "code",
   "execution_count": 97,
   "metadata": {},
   "outputs": [
    {
     "name": "stdout",
     "output_type": "stream",
     "text": [
      "We Don’t Talk About Bruno\n",
      "20\n"
     ]
    }
   ],
   "source": [
    "cur.execute('SELECT * FROM Tracks')\n",
    "allTracks = cur.fetchone()\n",
    "\n",
    "for i in allTracks:\n",
    "    print(i)"
   ]
  },
  {
   "attachments": {},
   "cell_type": "markdown",
   "metadata": {},
   "source": [
    "# Question 5"
   ]
  },
  {
   "cell_type": "code",
   "execution_count": 98,
   "metadata": {},
   "outputs": [
    {
     "name": "stdout",
     "output_type": "stream",
     "text": [
      "[('We Don’t Talk About Bruno', 20), ('Levitating', 15)]\n"
     ]
    }
   ],
   "source": [
    "cur.execute('SELECT * FROM Tracks')\n",
    "\n",
    "allTracks = cur.fetchall()\n",
    "\n",
    "print(allTracks)"
   ]
  },
  {
   "attachments": {},
   "cell_type": "markdown",
   "metadata": {},
   "source": [
    "# Question 6"
   ]
  },
  {
   "cell_type": "code",
   "execution_count": 99,
   "metadata": {},
   "outputs": [
    {
     "name": "stdout",
     "output_type": "stream",
     "text": [
      "[('We Don’t Talk About Bruno', 100), ('Levitating', 15)]\n"
     ]
    }
   ],
   "source": [
    "cur.execute('UPDATE Tracks SET plays = 100 WHERE title = \"We Don’t Talk About Bruno\"')\n",
    "conn.commit()\n",
    "\n",
    "cur.execute('SELECT * FROM Tracks')\n",
    "getTracks = cur.fetchall()\n",
    "\n",
    "print(getTracks)"
   ]
  },
  {
   "attachments": {},
   "cell_type": "markdown",
   "metadata": {},
   "source": [
    "# Question 7"
   ]
  },
  {
   "cell_type": "code",
   "execution_count": 100,
   "metadata": {},
   "outputs": [
    {
     "name": "stdout",
     "output_type": "stream",
     "text": [
      "[('We Don’t Talk About Bruno', 100), ('Levitating', 15)]\n"
     ]
    }
   ],
   "source": [
    "cur.execute('DELETE FROM Tracks WHERE plays = 5')\n",
    "conn.commit()\n",
    "\n",
    "cur.execute('SELECT * FROM Tracks')\n",
    "getTracks = cur.fetchall()\n",
    "\n",
    "print(getTracks)"
   ]
  },
  {
   "attachments": {},
   "cell_type": "markdown",
   "metadata": {},
   "source": [
    "# Question 8"
   ]
  },
  {
   "cell_type": "code",
   "execution_count": 101,
   "metadata": {},
   "outputs": [],
   "source": [
    "conn2 = sqlite3.connect('order.db')\n",
    "cur2 = conn2.cursor()\n",
    "\n",
    "cur2.execute('DROP TABLE IF EXISTS customers')\n",
    "cur2.execute('DROP TABLE IF EXISTS orders')\n",
    "\n",
    "cur2.execute('CREATE TABLE customers(customer_id INTEGER PRIMARY KEY, customer_name TEXT ) ')\n",
    "\n",
    "cur2.execute('CREATE TABLE orders(order_id TEXT PRIMARY KEY, customer_id INTEGER, amount DOUBLE, FOREIGN KEY (customer_id) REFERENCES customers (customer_id) ) ')\n",
    "\n",
    "conn2.commit()"
   ]
  },
  {
   "attachments": {},
   "cell_type": "markdown",
   "metadata": {},
   "source": [
    "# Question 9"
   ]
  },
  {
   "cell_type": "code",
   "execution_count": 102,
   "metadata": {},
   "outputs": [
    {
     "name": "stdout",
     "output_type": "stream",
     "text": [
      "[(1, 'Arya'), (2, 'Jon'), (3, 'Robb'), (4, 'Jun Xiang')]\n"
     ]
    }
   ],
   "source": [
    "cur2.execute('INSERT INTO customers VALUES (1, \"Arya\")')\n",
    "cur2.execute('INSERT INTO customers VALUES (2, \"Jon\")')\n",
    "cur2.execute('INSERT INTO customers VALUES (3, \"Robb\")')\n",
    "cur2.execute('INSERT INTO customers VALUES (4, \"Jun Xiang\")')\n",
    "conn2.commit()\n",
    "\n",
    "cur2.execute('SELECT * FROM customers')\n",
    "getAll = cur2.fetchall()\n",
    "print(getAll)"
   ]
  },
  {
   "attachments": {},
   "cell_type": "markdown",
   "metadata": {},
   "source": [
    "# Question 10"
   ]
  },
  {
   "cell_type": "code",
   "execution_count": 103,
   "metadata": {},
   "outputs": [
    {
     "name": "stdout",
     "output_type": "stream",
     "text": [
      "[('01', 1, 19.99), ('02', 1, 66.66), ('03', 3, 17.56), ('04', 4, 88.88)]\n"
     ]
    }
   ],
   "source": [
    "cur2.execute('INSERT INTO orders VALUES (\"01\", 1, 19.99)')\n",
    "cur2.execute('INSERT INTO orders VALUES (\"02\", 1, 66.66)')\n",
    "cur2.execute('INSERT INTO orders VALUES (\"03\", 3, 17.56)')\n",
    "cur2.execute('INSERT INTO orders VALUES (\"04\", 4, 88.88)')\n",
    "conn2.commit()\n",
    "\n",
    "cur2.execute('SELECT * FROM orders')\n",
    "getAll = cur2.fetchall()\n",
    "print(getAll)"
   ]
  },
  {
   "attachments": {},
   "cell_type": "markdown",
   "metadata": {},
   "source": [
    "# Question 11"
   ]
  },
  {
   "cell_type": "code",
   "execution_count": 104,
   "metadata": {},
   "outputs": [
    {
     "name": "stdout",
     "output_type": "stream",
     "text": [
      "[(1, 'Arya', '01', 1, 19.99), (2, 'Jon', '02', 1, 66.66), (3, 'Robb', '03', 3, 17.56), (4, 'Jun Xiang', '04', 4, 88.88)]\n"
     ]
    }
   ],
   "source": [
    "cur2.execute('SELECT * FROM customers c JOIN orders o ON c.customer_id = o.order_id')\n",
    "\n",
    "getAll = cur2.fetchall()\n",
    "print(getAll)"
   ]
  },
  {
   "attachments": {},
   "cell_type": "markdown",
   "metadata": {},
   "source": [
    "# Question 12"
   ]
  },
  {
   "cell_type": "code",
   "execution_count": 105,
   "metadata": {},
   "outputs": [
    {
     "name": "stdout",
     "output_type": "stream",
     "text": [
      "[('Arya', '01'), ('Jon', '02'), ('Robb', '03'), ('Jun Xiang', '04')]\n"
     ]
    }
   ],
   "source": [
    "cur2.execute('SELECT c.customer_name, o.order_id FROM customers c JOIN orders o ON c.customer_id = o.order_id WHERE o.amount > 15')\n",
    "\n",
    "getAll = cur2.fetchall()\n",
    "print(getAll)\n"
   ]
  }
 ],
 "metadata": {
  "kernelspec": {
   "display_name": "env",
   "language": "python",
   "name": "python3"
  },
  "language_info": {
   "codemirror_mode": {
    "name": "ipython",
    "version": 3
   },
   "file_extension": ".py",
   "mimetype": "text/x-python",
   "name": "python",
   "nbconvert_exporter": "python",
   "pygments_lexer": "ipython3",
   "version": "3.10.9"
  },
  "orig_nbformat": 4,
  "vscode": {
   "interpreter": {
    "hash": "43d0f93971c240cb80a2272264322a84f9cca393e6386d0a5d9712c1a6db1129"
   }
  }
 },
 "nbformat": 4,
 "nbformat_minor": 2
}
