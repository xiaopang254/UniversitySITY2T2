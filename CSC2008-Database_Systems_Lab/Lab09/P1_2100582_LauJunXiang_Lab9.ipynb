{
 "cells": [
  {
   "attachments": {},
   "cell_type": "markdown",
   "metadata": {},
   "source": [
    "# Question 1"
   ]
  },
  {
   "cell_type": "code",
   "execution_count": 239,
   "metadata": {},
   "outputs": [],
   "source": [
    "from pymongo import MongoClient\n",
    "\n",
    "client = MongoClient('localhost', 27017)\n",
    "\n",
    "db = client['junxiang']"
   ]
  },
  {
   "attachments": {},
   "cell_type": "markdown",
   "metadata": {},
   "source": [
    "# Question 2"
   ]
  },
  {
   "cell_type": "code",
   "execution_count": 240,
   "metadata": {},
   "outputs": [
    {
     "data": {
      "text/plain": [
       "<pymongo.results.DeleteResult at 0x105be0130>"
      ]
     },
     "execution_count": 240,
     "metadata": {},
     "output_type": "execute_result"
    }
   ],
   "source": [
    "\n",
    "collection = db['collection_junxiang']\n",
    "collection.delete_many({})"
   ]
  },
  {
   "attachments": {},
   "cell_type": "markdown",
   "metadata": {},
   "source": [
    "# Question 3"
   ]
  },
  {
   "cell_type": "code",
   "execution_count": 241,
   "metadata": {},
   "outputs": [
    {
     "name": "stdout",
     "output_type": "stream",
     "text": [
      "{'_id': ObjectId('640f35a5ac3a652356a5524d'), 'sname': 'Iron Man', 'syear': 2019, 'major': 'engineering'}\n"
     ]
    }
   ],
   "source": [
    "collection.insert_one({'sname': 'Iron Man', 'syear': 2019, 'major': 'engineering'})\n",
    "\n",
    "for documents in collection.find():\n",
    "    print(documents)"
   ]
  },
  {
   "attachments": {},
   "cell_type": "markdown",
   "metadata": {},
   "source": [
    "# Question 4"
   ]
  },
  {
   "cell_type": "code",
   "execution_count": 242,
   "metadata": {},
   "outputs": [
    {
     "name": "stdout",
     "output_type": "stream",
     "text": [
      "{'_id': ObjectId('640f35a5ac3a652356a5524d'), 'sname': 'Iron Man', 'syear': 2019, 'major': 'engineering'}\n",
      "{'_id': ObjectId('640f35a5ac3a652356a5524e'), 'sname': 'Deadpool', 'syear': 2019, 'major': 'biology'}\n",
      "{'_id': ObjectId('640f35a5ac3a652356a5524f'), 'sname': 'Wolverine', 'syear': 2020, 'major': 'physics'}\n",
      "{'_id': ObjectId('640f35a5ac3a652356a55250'), 'sname': 'Hulk', 'syear': 2020, 'major': 'physics'}\n",
      "{'_id': ObjectId('640f35a5ac3a652356a55251'), 'sname': 'Thor', 'syear': 2021, 'major': 'physics'}\n",
      "{'_id': ObjectId('640f35a5ac3a652356a55252'), 'sname': 'Lau Jun Xiang', 'syear': 2021, 'major': 'engineering'}\n"
     ]
    }
   ],
   "source": [
    "nameList = [{'sname':'Deadpool','syear':2019,'major':'biology'},\n",
    "            {'sname':'Wolverine','syear':2020,'major':'physics'},\n",
    "            {'sname':'Hulk','syear':2020,'major':'physics'},\n",
    "            {'sname':'Thor','syear':2021,'major':'physics'},\n",
    "            {'sname':'Lau Jun Xiang', 'syear':2021,'major':'engineering'}\n",
    "            ]\n",
    "\n",
    "collection.insert_many(nameList)\n",
    "\n",
    "for documents in collection.find():\n",
    "    print(documents)"
   ]
  },
  {
   "attachments": {},
   "cell_type": "markdown",
   "metadata": {},
   "source": [
    "# Question 5"
   ]
  },
  {
   "cell_type": "code",
   "execution_count": 243,
   "metadata": {},
   "outputs": [
    {
     "name": "stdout",
     "output_type": "stream",
     "text": [
      "{'_id': ObjectId('640f35a5ac3a652356a5524d'), 'sname': 'Iron Man', 'syear': 2019, 'major': 'engineering'}\n"
     ]
    }
   ],
   "source": [
    "firstCollection = collection.find_one()\n",
    "print(firstCollection)"
   ]
  },
  {
   "attachments": {},
   "cell_type": "markdown",
   "metadata": {},
   "source": [
    "# Question 6"
   ]
  },
  {
   "cell_type": "code",
   "execution_count": 244,
   "metadata": {},
   "outputs": [
    {
     "name": "stdout",
     "output_type": "stream",
     "text": [
      "{'_id': ObjectId('640f35a5ac3a652356a5524f'), 'sname': 'Wolverine', 'syear': 2020, 'major': 'physics'}\n",
      "{'_id': ObjectId('640f35a5ac3a652356a55251'), 'sname': 'Thor', 'syear': 2021, 'major': 'physics'}\n"
     ]
    }
   ],
   "source": [
    "for document in collection.find({'sname': {'$gt': 'S'}}):\n",
    "    print(document)"
   ]
  },
  {
   "attachments": {},
   "cell_type": "markdown",
   "metadata": {},
   "source": [
    "# Question 7"
   ]
  },
  {
   "cell_type": "code",
   "execution_count": 245,
   "metadata": {},
   "outputs": [
    {
     "name": "stdout",
     "output_type": "stream",
     "text": [
      "{'_id': ObjectId('640f35a5ac3a652356a5524e'), 'sname': 'Deadpool', 'syear': 2019, 'major': 'biology'}\n",
      "{'_id': ObjectId('640f35a5ac3a652356a55250'), 'sname': 'Hulk', 'syear': 2020, 'major': 'physics'}\n",
      "{'_id': ObjectId('640f35a5ac3a652356a5524d'), 'sname': 'Iron Man', 'syear': 2019, 'major': 'engineering'}\n",
      "{'_id': ObjectId('640f35a5ac3a652356a55252'), 'sname': 'Lau Jun Xiang', 'syear': 2021, 'major': 'engineering'}\n",
      "{'_id': ObjectId('640f35a5ac3a652356a55251'), 'sname': 'Thor', 'syear': 2021, 'major': 'physics'}\n",
      "{'_id': ObjectId('640f35a5ac3a652356a5524f'), 'sname': 'Wolverine', 'syear': 2020, 'major': 'physics'}\n"
     ]
    }
   ],
   "source": [
    "from pymongo import ASCENDING\n",
    "\n",
    "for document in collection.find().sort('sname', ASCENDING):\n",
    "    print(document)"
   ]
  },
  {
   "attachments": {},
   "cell_type": "markdown",
   "metadata": {},
   "source": [
    "# Question 8"
   ]
  },
  {
   "cell_type": "code",
   "execution_count": 246,
   "metadata": {},
   "outputs": [
    {
     "name": "stdout",
     "output_type": "stream",
     "text": [
      "{'_id': ObjectId('640f35a5ac3a652356a5524f'), 'sname': 'Wolverine', 'syear': 2020, 'major': 'physics'}\n",
      "{'_id': ObjectId('640f35a5ac3a652356a55251'), 'sname': 'Thor', 'syear': 2021, 'major': 'physics'}\n",
      "{'_id': ObjectId('640f35a5ac3a652356a55252'), 'sname': 'Lau Jun Xiang', 'syear': 2021, 'major': 'engineering'}\n",
      "{'_id': ObjectId('640f35a5ac3a652356a5524d'), 'sname': 'Iron Man', 'syear': 2019, 'major': 'engineering'}\n",
      "{'_id': ObjectId('640f35a5ac3a652356a55250'), 'sname': 'Hulk', 'syear': 2020, 'major': 'physics'}\n",
      "{'_id': ObjectId('640f35a5ac3a652356a5524e'), 'sname': 'Deadpool', 'syear': 2019, 'major': 'biology'}\n"
     ]
    }
   ],
   "source": [
    "from pymongo import DESCENDING\n",
    "\n",
    "for document in collection.find().sort('sname', DESCENDING):\n",
    "    print(document)"
   ]
  },
  {
   "attachments": {},
   "cell_type": "markdown",
   "metadata": {},
   "source": [
    "# Question 9"
   ]
  },
  {
   "cell_type": "code",
   "execution_count": 247,
   "metadata": {},
   "outputs": [
    {
     "name": "stdout",
     "output_type": "stream",
     "text": [
      "No. of updated documents:  1\n",
      "{'_id': ObjectId('640f35a5ac3a652356a5524d'), 'sname': 'Iron Man', 'syear': 2019, 'major': 'computing'}\n",
      "{'_id': ObjectId('640f35a5ac3a652356a5524e'), 'sname': 'Deadpool', 'syear': 2019, 'major': 'biology'}\n",
      "{'_id': ObjectId('640f35a5ac3a652356a5524f'), 'sname': 'Wolverine', 'syear': 2020, 'major': 'physics'}\n",
      "{'_id': ObjectId('640f35a5ac3a652356a55250'), 'sname': 'Hulk', 'syear': 2020, 'major': 'physics'}\n",
      "{'_id': ObjectId('640f35a5ac3a652356a55251'), 'sname': 'Thor', 'syear': 2021, 'major': 'physics'}\n",
      "{'_id': ObjectId('640f35a5ac3a652356a55252'), 'sname': 'Lau Jun Xiang', 'syear': 2021, 'major': 'engineering'}\n"
     ]
    }
   ],
   "source": [
    "results = collection.update_many({'sname': {'$regex': '^I'}}, {'$set': {'major': 'computing'}})\n",
    "\n",
    "print('No. of updated documents: ', results.modified_count)\n",
    "\n",
    "for documents in collection.find():\n",
    "    print(documents)\n"
   ]
  },
  {
   "attachments": {},
   "cell_type": "markdown",
   "metadata": {},
   "source": [
    "# Question 10"
   ]
  },
  {
   "cell_type": "code",
   "execution_count": 248,
   "metadata": {},
   "outputs": [
    {
     "name": "stdout",
     "output_type": "stream",
     "text": [
      "{'_id': ObjectId('640f35a5ac3a652356a5524e'), 'sname': 'Deadpool', 'syear': 2019, 'major': 'biology'}\n",
      "{'_id': ObjectId('640f35a5ac3a652356a5524f'), 'sname': 'Wolverine', 'syear': 2020, 'major': 'physics'}\n",
      "{'_id': ObjectId('640f35a5ac3a652356a55250'), 'sname': 'Hulk', 'syear': 2020, 'major': 'physics'}\n",
      "{'_id': ObjectId('640f35a5ac3a652356a55251'), 'sname': 'Thor', 'syear': 2021, 'major': 'physics'}\n",
      "{'_id': ObjectId('640f35a5ac3a652356a55252'), 'sname': 'Lau Jun Xiang', 'syear': 2021, 'major': 'engineering'}\n"
     ]
    }
   ],
   "source": [
    "results = collection.delete_one({'major': 'computing'})\n",
    "\n",
    "for documents in collection.find():\n",
    "    print(documents)\n"
   ]
  },
  {
   "attachments": {},
   "cell_type": "markdown",
   "metadata": {},
   "source": [
    "# Question 11"
   ]
  },
  {
   "cell_type": "code",
   "execution_count": 249,
   "metadata": {},
   "outputs": [
    {
     "name": "stdout",
     "output_type": "stream",
     "text": [
      "No. of updated documents:  3\n",
      "{'_id': ObjectId('640f35a5ac3a652356a5524e'), 'sname': 'Deadpool', 'syear': 2019, 'major': 'biology'}\n",
      "{'_id': ObjectId('640f35a5ac3a652356a55252'), 'sname': 'Lau Jun Xiang', 'syear': 2021, 'major': 'engineering'}\n"
     ]
    }
   ],
   "source": [
    "results = collection.delete_many({'major': {'$regex': '^p'}})\n",
    "\n",
    "print('No. of updated documents: ', results.deleted_count)\n",
    "\n",
    "for documents in collection.find():\n",
    "    print(documents)\n"
   ]
  },
  {
   "attachments": {},
   "cell_type": "markdown",
   "metadata": {},
   "source": [
    "# Question 12"
   ]
  },
  {
   "cell_type": "code",
   "execution_count": 250,
   "metadata": {},
   "outputs": [
    {
     "name": "stdout",
     "output_type": "stream",
     "text": [
      "Confirmed no documents!\n"
     ]
    }
   ],
   "source": [
    "results = collection.delete_many({})\n",
    "\n",
    "for documents in collection.find():\n",
    "    print(documents)\n",
    "\n",
    "if collection.count_documents({}) == 0:\n",
    "    print('Confirmed no documents!')\n",
    "else:\n",
    "    print('There still exists some documents!', collection.count_documents({}))"
   ]
  },
  {
   "attachments": {},
   "cell_type": "markdown",
   "metadata": {},
   "source": [
    "# Question 13"
   ]
  },
  {
   "cell_type": "code",
   "execution_count": 251,
   "metadata": {},
   "outputs": [
    {
     "name": "stdout",
     "output_type": "stream",
     "text": [
      "Collection(Database(MongoClient(host=['localhost:27017'], document_class=dict, tz_aware=False, connect=True), 'junxiang'), 'collection_junxiang.list_collection_names')\n"
     ]
    }
   ],
   "source": [
    "collection.drop()\n",
    "\n",
    "print(collection.list_collection_names)"
   ]
  }
 ],
 "metadata": {
  "kernelspec": {
   "display_name": "env",
   "language": "python",
   "name": "python3"
  },
  "language_info": {
   "codemirror_mode": {
    "name": "ipython",
    "version": 3
   },
   "file_extension": ".py",
   "mimetype": "text/x-python",
   "name": "python",
   "nbconvert_exporter": "python",
   "pygments_lexer": "ipython3",
   "version": "3.10.9"
  },
  "orig_nbformat": 4,
  "vscode": {
   "interpreter": {
    "hash": "019d21f3f0e47d99a87404fe158b62963db2a35d45695f7ad467ae094cc091e7"
   }
  }
 },
 "nbformat": 4,
 "nbformat_minor": 2
}
